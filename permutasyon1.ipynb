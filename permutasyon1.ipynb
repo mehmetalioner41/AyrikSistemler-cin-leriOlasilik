{
  "nbformat": 4,
  "nbformat_minor": 0,
  "metadata": {
    "colab": {
      "name": "permutasyon1.ipynb",
      "provenance": [],
      "authorship_tag": "ABX9TyP+zhzo6fapU+4jCzJJWf5w",
      "include_colab_link": true
    },
    "kernelspec": {
      "name": "python3",
      "display_name": "Python 3"
    }
  },
  "cells": [
    {
      "cell_type": "markdown",
      "metadata": {
        "id": "view-in-github",
        "colab_type": "text"
      },
      "source": [
        "<a href=\"https://colab.research.google.com/github/mehmetalioner41/AyrikSistemler-cin-leriOlasilik/blob/master/permutasyon1.ipynb\" target=\"_parent\"><img src=\"https://colab.research.google.com/assets/colab-badge.svg\" alt=\"Open In Colab\"/></a>"
      ]
    },
    {
      "cell_type": "code",
      "metadata": {
        "id": "GscplZClN7aa",
        "colab_type": "code",
        "colab": {}
      },
      "source": [
        "# Python function to print permutations of a given list \n",
        "def permutation(lst): \n",
        "  \n",
        "    # If lst is empty then there are no permutations \n",
        "    if len(lst) == 0: \n",
        "        return [] \n",
        "  \n",
        "    # If there is only one element in lst then, only \n",
        "    # one permuatation is possible \n",
        "    if len(lst) == 1: \n",
        "        return [lst] \n",
        "  \n",
        "    # Find the permutations for lst if there are \n",
        "    # more than 1 characters \n",
        "  \n",
        "    l = [] # empty list that will store current permutation \n",
        "  \n",
        "    # Iterate the input(lst) and calculate the permutation \n",
        "    for i in range(len(lst)): \n",
        "       m = lst[i] \n",
        "  \n",
        "       # Extract lst[i] or m from the list.  remLst is \n",
        "       # remaining list \n",
        "       remLst = lst[:i] + lst[i+1:] \n",
        "  \n",
        "       # Generating all permutations where m is first \n",
        "       # element \n",
        "       for p in permutation(remLst): \n",
        "           l.append([m] + p) \n",
        "    return l \n",
        "  \n",
        "  \n",
        "# Driver program to test above function \n",
        "data = list('123') \n",
        "for p in permutation(data): \n",
        "    print (p)"
      ],
      "execution_count": 0,
      "outputs": []
    }
  ]
}