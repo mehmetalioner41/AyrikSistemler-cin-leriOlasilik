{
  "nbformat": 4,
  "nbformat_minor": 0,
  "metadata": {
    "colab": {
      "name": "olasılık2.ipynb",
      "provenance": [],
      "collapsed_sections": [],
      "authorship_tag": "ABX9TyOmPGT0fQb83EvVZVN1diMV",
      "include_colab_link": true
    },
    "kernelspec": {
      "name": "python3",
      "display_name": "Python 3"
    }
  },
  "cells": [
    {
      "cell_type": "markdown",
      "metadata": {
        "id": "view-in-github",
        "colab_type": "text"
      },
      "source": [
        "<a href=\"https://colab.research.google.com/github/mehmetalioner41/AyrikSistemler-cin-leriOlasilik/blob/master/olas%C4%B1l%C4%B1k2.ipynb\" target=\"_parent\"><img src=\"https://colab.research.google.com/assets/colab-badge.svg\" alt=\"Open In Colab\"/></a>"
      ]
    },
    {
      "cell_type": "markdown",
      "metadata": {
        "id": "2eshVPMQ2nbd",
        "colab_type": "text"
      },
      "source": [
        "Bir restorana saatte 25 kişi geliyorsa, bu restorana bir saatte 20'den az kişi gelme olasılığı nedir?"
      ]
    },
    {
      "cell_type": "code",
      "metadata": {
        "id": "0wp1gpB30-2O",
        "colab_type": "code",
        "outputId": "3d82f7a4-6d2a-45cc-b6fa-a086f1e0c82f",
        "colab": {
          "base_uri": "https://localhost:8080/",
          "height": 281
        }
      },
      "source": [
        "from scipy.stats import poisson\n",
        "import numpy as np\n",
        "import matplotlib.pyplot as plt\n",
        "\n",
        "p25 = poisson(25)\n",
        "k = 35\n",
        "result = p25.pmf(k) # cevabi elde ettik\n",
        "# 0.0113\n",
        "# Gorsellestirmeler\n",
        "n = 60\n",
        "x = np.linspace(0,n,n+1) \n",
        "pmf25 = np.array([p25.pmf(i) for i in x])\n",
        "plt.plot(x, pmf25, 'r')\n",
        "plt.scatter([k],[result],c=\"b\")\n",
        "plt.title(\"Poisson Olasilik Kutle Fonksiyonu\")\n",
        "plt.legend([\"Poisson(25)\",\"Poisson(25)(35)\"])\n",
        "plt.savefig(\"pmf.png\")"
      ],
      "execution_count": 13,
      "outputs": [
        {
          "output_type": "display_data",
          "data": {
            "image/png": "[encoded data removed]",
            "text/plain": [
              "<Figure size 432x288 with 1 Axes>"
            ]
          },
          "metadata": {
            "tags": [],
            "needs_background": "light"
          }
        }
      ]
    },
    {
      "cell_type": "markdown",
      "metadata": {
        "id": "7gcQ5MVGE6ex",
        "colab_type": "text"
      },
      "source": [
        "Bozuk paranın yazı tura gelme olasılığı"
      ]
    },
    {
      "cell_type": "code",
      "metadata": {
        "id": "ZgrfAsKiEk4m",
        "colab_type": "code",
        "outputId": "78b74739-bdb8-49ca-9854-5e7bff4c6b08",
        "colab": {
          "base_uri": "https://localhost:8080/",
          "height": 67
        }
      },
      "source": [
        "# Bozuk paranın yazı tura gelme olasılığı\n",
        "ph = 0.5\n",
        "\n",
        "# Bozuk para atma sayısı\n",
        "num_flips = 25\n",
        "\n",
        "# Para atma değişkeni oluşturma\n",
        "def flip_coin(N, p=0.5):\n",
        "    prob = [p,(1 - p)]\n",
        "    return np.random.choice(['T','Y'], size=N, p=prob)\n",
        "\n",
        "# Atışları biriktir\n",
        "flips=flip_coin(num_flips, ph)\n",
        "\n",
        "# Turaları say\n",
        "num_heads = np.sum(flips == 'T')\n",
        "\n",
        "# Sonuçları ekrana bas\n",
        "print(\"Flips:\", \" \".join(flips))\n",
        "print(f\"Number of Heads: {num_heads}\")\n",
        "print(f'P(H) = {num_heads/num_flips} (Number of Heads/Total Flips)')"
      ],
      "execution_count": 2,
      "outputs": [
        {
          "output_type": "stream",
          "text": [
            "Flips: Y T T T Y Y Y T T T T T T T T Y Y T Y Y Y T T Y Y\n",
            "Number of Heads: 14\n",
            "P(H) = 0.56 (Number of Heads/Total Flips)\n"
          ],
          "name": "stdout"
        }
      ]
    },
    {
      "cell_type": "markdown",
      "metadata": {
        "id": "UP223qUU9sdk",
        "colab_type": "text"
      },
      "source": [
        "Zar atma olasılık problemi"
      ]
    },
    {
      "cell_type": "code",
      "metadata": {
        "id": "ZM3mTDcG9sFr",
        "colab_type": "code",
        "outputId": "55ddc2bd-07e3-4dd7-8405-ece35b25dc8f",
        "colab": {
          "base_uri": "https://localhost:8080/",
          "height": 67
        }
      },
      "source": [
        "# Zar atma olasılık problemi\n",
        "# Tüm durumlarda eşit olasılık olduğunu varsayalım\n",
        "import numpy as np\n",
        "prob_die = 6*[(1/6)]\n",
        "\n",
        "# Zar atma sayısı\n",
        "num_rolls = 25\n",
        "\n",
        "# Bir zar atışını simüle et\n",
        "def roll_die(N, prob = prob_die):\n",
        "    return np.random.choice(['1', '2', '3', '4', '5', '6'], size=N, p=prob)\n",
        "\n",
        "# Accumulate rolls\n",
        "rolls=roll_die(num_rolls)\n",
        "\n",
        "# Accumulate rolls of an Ace\n",
        "num_ones = np.sum(rolls == '1')\n",
        "\n",
        "# Sonucu Ekrana bas\n",
        "print(\"Rolls:\", \" \".join(rolls))\n",
        "print(f\"Number of Ones: {num_ones}\")\n",
        "print(f'P(1) = {num_ones/num_rolls} (Number of Ones/Total Rolls)')"
      ],
      "execution_count": 0,
      "outputs": [
        {
          "output_type": "stream",
          "text": [
            "Rolls: 1 5 6 3 4 5 1 2 2 3 1 1 6 5 2 2 5 6 2 6 1 1 1 4 6\n",
            "Number of Ones: 7\n",
            "P(1) = 0.28 (Number of Ones/Total Rolls)\n"
          ],
          "name": "stdout"
        }
      ]
    },
    {
      "cell_type": "markdown",
      "metadata": {
        "id": "jmYkuMgeHh_8",
        "colab_type": "text"
      },
      "source": [
        "Binom dağılımı :\n",
        "Bu basit örnek, daha karmaşık dizilerle genelleştirilebilir. Örneğin, n bozuk para çevirirken r yazı alma olasılığını hesaplayabiliriz. Bu durumda, Binom Dağılımı için genel bir formüle sahibiz.\n",
        " p(n) = [ m!/ n!(m-n)! ] [ (p^n) (q^(m-n)) ]\n",
        "Bu dağıtım aşağıdaki durumlarda uygulanabilir\n",
        "farklı denemelerde (i, e, n bağımsızdır)\n",
        "her yol sadece iki durumdan birinde sona erebilir ve\n",
        "başarı (veya başarısızlık) olasılığı her bir deneme için sabittir.\n",
        "Basit bir örnek olarak, 4 uygun bozuk parayı çevirirken farklı sayıda tura elde etmek için olasılık kütle fonksiyonunu hesaplayabiliriz, bunun için tura alma olasılığını = 0,5 olarak alalım\n",
        "\n",
        "\n",
        "\n",
        "\n"
      ]
    },
    {
      "cell_type": "code",
      "metadata": {
        "id": "93IGgz10HhxK",
        "colab_type": "code",
        "outputId": "b33f9e36-d37e-48f0-ec9f-24d783b4ccc1",
        "colab": {
          "base_uri": "https://localhost:8080/",
          "height": 118
        }
      },
      "source": [
        "# Binom dağılımı yaparak olasılık hesaplama\n",
        "# Number of coins\n",
        "n = 5\n",
        "\n",
        "# Probability of heads\n",
        "ph = 0.5\n",
        "\n",
        "from scipy.stats import binom\n",
        "\n",
        "x = np.arange(6)\n",
        "\n",
        "# Create frozen\n",
        "rv = binom(n, ph)\n",
        "pmf = rv.pmf(x)\n",
        "\n",
        "for idx, pr in enumerate(pmf):\n",
        "    print(f'P({idx} Heads) = {pr:6.2f}')\n"
      ],
      "execution_count": 23,
      "outputs": [
        {
          "output_type": "stream",
          "text": [
            "P(0 Heads) =   0.03\n",
            "P(1 Heads) =   0.16\n",
            "P(2 Heads) =   0.31\n",
            "P(3 Heads) =   0.31\n",
            "P(4 Heads) =   0.16\n",
            "P(5 Heads) =   0.03\n"
          ],
          "name": "stdout"
        }
      ]
    },
    {
      "cell_type": "markdown",
      "metadata": {
        "id": "nEM4vBikaehw",
        "colab_type": "text"
      },
      "source": [
        "\n",
        "Ortalama ve standart sapmalar nedir? Uygulama örnekleri veriniz.\n",
        "1. Üretim, tolerans, başarısızlıktan önce kaç tane?\n",
        "2. Muhasebede sahtekarlık (sahtekarlığın denetim tespiti tespiti olasılığı vardır)\n",
        "\n",
        "Frekans Olasılığı"
      ]
    },
    {
      "cell_type": "code",
      "metadata": {
        "id": "fu4pKCxEadzu",
        "colab_type": "code",
        "outputId": "b531bc7a-f2f5-4d9d-83f9-36a1f2aa218d",
        "colab": {
          "base_uri": "https://localhost:8080/",
          "height": 195
        }
      },
      "source": [
        "# Probabilty of flipping heads\n",
        "\n",
        "ph = 0.5\n",
        "\n",
        "# How many times to flip a coin\n",
        "num_flips = 100\n",
        "\n",
        "# Function to print out seqeunce of results from a coin flip\n",
        "def print_flips(flps, print_width = 25):\n",
        "\n",
        "    # How many coin flip results we have displayed\n",
        "    count = 0\n",
        "\n",
        "    # We limit to 100 total\n",
        "    if flps.shape[0] > 100:\n",
        "        flips = flps[:-100]\n",
        "    else:\n",
        "        flips = flps[:] \n",
        "    \n",
        "    # İterate through flips, displaying one at a time.\n",
        "    for flip in flips:\n",
        "        count +=1\n",
        "        print(f'{flip}', end=' ')\n",
        "\n",
        "        # We format to only display print_width flips on one line\n",
        "        if (count % print_width) == 0:\n",
        "            print() # Print Newline\n",
        "    print() # Print newline\n",
        "\n",
        "# Function to generate num_flips coin flips\n",
        "def make_flips(num_flips, ph, flip_coin):\n",
        "\n",
        "    # Flip coin num flips number of times\n",
        "    flips = flip_coin(num_flips, ph)\n",
        "\n",
        "    # Display results\n",
        "    print_flips(flips)\n",
        "\n",
        "    # Accumulate heads\n",
        "    num_heads = np.sum(flips == 'H')\n",
        "\n",
        "    # Display results\n",
        "    print(f\"Number of Heads: {num_heads}\")\n",
        "    print(f'P(H) = {num_heads/num_flips} (Number of Heads/Total Flips)')\n",
        "\n",
        "make_flips(num_flips, ph, flip_coin)"
      ],
      "execution_count": 46,
      "outputs": [
        {
          "output_type": "error",
          "ename": "NameError",
          "evalue": "ignored",
          "traceback": [
            "\u001b[0;31m---------------------------------------------------------------------------\u001b[0m",
            "\u001b[0;31mNameError\u001b[0m                                 Traceback (most recent call last)",
            "\u001b[0;32m<ipython-input-46-ccf80a9313ed>\u001b[0m in \u001b[0;36m<module>\u001b[0;34m()\u001b[0m\n\u001b[1;32m     43\u001b[0m     \u001b[0mprint\u001b[0m\u001b[0;34m(\u001b[0m\u001b[0;34mf'P(H) = {num_heads/num_flips} (Number of Heads/Total Flips)'\u001b[0m\u001b[0;34m)\u001b[0m\u001b[0;34m\u001b[0m\u001b[0;34m\u001b[0m\u001b[0m\n\u001b[1;32m     44\u001b[0m \u001b[0;34m\u001b[0m\u001b[0m\n\u001b[0;32m---> 45\u001b[0;31m \u001b[0mmake_flips\u001b[0m\u001b[0;34m(\u001b[0m\u001b[0mnum_flips\u001b[0m\u001b[0;34m,\u001b[0m \u001b[0mph\u001b[0m\u001b[0;34m,\u001b[0m \u001b[0mflip_coin\u001b[0m\u001b[0;34m)\u001b[0m\u001b[0;34m\u001b[0m\u001b[0;34m\u001b[0m\u001b[0m\n\u001b[0m",
            "\u001b[0;31mNameError\u001b[0m: name 'flip_coin' is not defined"
          ]
        }
      ]
    },
    {
      "cell_type": "code",
      "metadata": {
        "id": "ZiXICF_ANiyO",
        "colab_type": "code",
        "colab": {}
      },
      "source": [
        ""
      ],
      "execution_count": 0,
      "outputs": []
    },
    {
      "cell_type": "markdown",
      "metadata": {
        "id": "Mz13x3EvL3po",
        "colab_type": "text"
      },
      "source": [
        "\n",
        "Başlık olasılığını yukarıdaki kod snippet'inde daha düşük ve daha yüksek bir değerle değiştirin (i, e, ph). Sonuçlar nasıl değişir (madeni para çevirme sayısını da değiştirmek isteyebilirsiniz)?\n",
        "Uzun vadeli frekans olasılığı"
      ]
    },
    {
      "cell_type": "code",
      "metadata": {
        "id": "QE8YHbp-MhBD",
        "colab_type": "code",
        "colab": {
          "base_uri": "https://localhost:8080/",
          "height": 229
        },
        "outputId": "fbfb49ae-9413-427c-b7ae-a0b5b2cc9727"
      },
      "source": [
        "import numpy as np\n",
        "# Probabilty of flipping heads\n",
        "ph = 0.5\n",
        "\n",
        "# Number of heads to compute\n",
        "total = 50000 ; size = 1000\n",
        "\n",
        "# Sampling array to plot coin flips\n",
        "attempts = np.arange(size, total + size, size)\n",
        "\n",
        "# Simulate coin flips\n",
        "flips = flip_coin(total, ph)\n",
        "\n",
        "# Accumulate head frequencies\n",
        "results = [np.sum(flips[:idx] == 'H')/np.float(idx) for idx in attempts]\n",
        "\n",
        "# Make plot\n",
        "fig, ax = plt.subplots(figsize=(12, 8))\n",
        "\n",
        "# Plot simulated flips\n",
        "ax.plot(attempts, results , 'o-', alpha=0.75, label='Simulation')\n",
        "\n",
        "# Plot theoretical expectation\n",
        "ax.axhline(ph, 0, 1, color='r', alpha=0.75, label='Theory')\n",
        "\n",
        "# Annotate plot\n",
        "ax.legend(fontsize=16)\n",
        "ax.set_title('Frequency P(H)', fontsize=20)\n",
        "ax.set_xlabel('Number of Flips', fontsize=18)\n",
        "ax.set_ylabel('P(H)', fontsize=18)\n",
        "\n",
        "# Compute y limits (how far above or below P(H) to display)\n",
        "yp = abs(max(results) - ph)\n",
        "yn = abs(min(results) - ph)\n",
        "\n",
        "y_delta = max(yp, yn)\n",
        "\n",
        "ax.set_ylim(ph - y_delta, ph + y_delta)\n",
        "\n",
        "sns.despine(trim=True)\n"
      ],
      "execution_count": 1,
      "outputs": [
        {
          "output_type": "error",
          "ename": "NameError",
          "evalue": "ignored",
          "traceback": [
            "\u001b[0;31m---------------------------------------------------------------------------\u001b[0m",
            "\u001b[0;31mNameError\u001b[0m                                 Traceback (most recent call last)",
            "\u001b[0;32m<ipython-input-1-3565f7f58ff1>\u001b[0m in \u001b[0;36m<module>\u001b[0;34m()\u001b[0m\n\u001b[1;32m     10\u001b[0m \u001b[0;34m\u001b[0m\u001b[0m\n\u001b[1;32m     11\u001b[0m \u001b[0;31m# Simulate coin flips\u001b[0m\u001b[0;34m\u001b[0m\u001b[0;34m\u001b[0m\u001b[0;34m\u001b[0m\u001b[0m\n\u001b[0;32m---> 12\u001b[0;31m \u001b[0mflips\u001b[0m \u001b[0;34m=\u001b[0m \u001b[0mflip_coin\u001b[0m\u001b[0;34m(\u001b[0m\u001b[0mtotal\u001b[0m\u001b[0;34m,\u001b[0m \u001b[0mph\u001b[0m\u001b[0;34m)\u001b[0m\u001b[0;34m\u001b[0m\u001b[0;34m\u001b[0m\u001b[0m\n\u001b[0m\u001b[1;32m     13\u001b[0m \u001b[0;34m\u001b[0m\u001b[0m\n\u001b[1;32m     14\u001b[0m \u001b[0;31m# Accumulate head frequencies\u001b[0m\u001b[0;34m\u001b[0m\u001b[0;34m\u001b[0m\u001b[0;34m\u001b[0m\u001b[0m\n",
            "\u001b[0;31mNameError\u001b[0m: name 'flip_coin' is not defined"
          ]
        }
      ]
    },
    {
      "cell_type": "markdown",
      "metadata": {
        "id": "tqHHbwUpaqLY",
        "colab_type": "text"
      },
      "source": [
        "Bir kutuda 10 beyaz top, 20 kırmızı ve 30 yeşil top var. Bunlardan Değiştirmeli ile 5 top çekelim.\n",
        "a. 3 beyaz veya 2 kırmızı çekme olasılığı\n",
        "b. 5 topun hepsi aynı renkte olma olasılığı nedir?\n",
        "Burada olasılık hesaplama formulunu kullanacağız. Her turda toplarımızı toplayacağız ve 3 beyaz veya 2 kırmızı top veya 5 topun hepsi aynı renkte olucak şekilde hesaplıcaz."
      ]
    },
    {
      "cell_type": "code",
      "metadata": {
        "id": "nv-Ut_HsYKwN",
        "colab_type": "code",
        "colab": {
          "base_uri": "https://localhost:8080/",
          "height": 50
        },
        "outputId": "7409f6d2-0b51-45be-8cc6-908d8daae8d2"
      },
      "source": [
        "import numpy as np\n",
        "import random\n",
        "# 1.Bu soru için kullanacağımız kütüphaneyi ayarlayalım\n",
        "# Bu kütüphane rastgele bir renk seçmemize izin verecek\n",
        "d = {}\n",
        "for i in range(60):\n",
        "    if i < 10:\n",
        "        d[i] = 'white'\n",
        "    elif i > 9 and i < 30:\n",
        "        d[i] = 'red'\n",
        "    else:\n",
        "        d[i] = 'green'\n",
        "\n",
        "# Önemli olan değişkenleri başlat\n",
        "n_simulations = 1000000\n",
        "part_a_total = 0\n",
        "part_b_total = 0\n",
        "\n",
        "for i in range(n_simulations):\n",
        "\n",
        "    # Seçtiğimiz renlerin bir listesini oluşturalım\n",
        "    lst = []\n",
        "    for i in range(5):\n",
        "        lst.append(d[random.randint(0, 59)])\n",
        "\n",
        "    # Oluşturduğumuz listeyi numpy dizisine dönüştürelim\n",
        "    lst = np.array(lst)\n",
        "\n",
        "    # seçtiğimiz her bir rengin numarasını bulalım\n",
        "    white = sum(lst == 'white')\n",
        "    red = sum(lst == 'red')\n",
        "    green = sum(lst == 'green')\n",
        "\n",
        "    # Kombinasyonun yukarıdaki kriterleri karşılayıp karşılamadığını takip edelim\n",
        "    if white == 3 and red == 2:\n",
        "        part_a_total +=1\n",
        "\n",
        "    if red == 5 or white == 5 or green == 5:\n",
        "        part_b_total +=1\n",
        "\n",
        "print('3 beyaz veya 2 kırmızı top gelme olasılığı: ',part_a_total/n_simulations*100,'%')\n",
        "print('Aynı renklerin gelme olasılığı: ',part_b_total/n_simulations*100,'%')\n"
      ],
      "execution_count": 15,
      "outputs": [
        {
          "output_type": "stream",
          "text": [
            "3 beyaz veya 2 kırmızı top gelme olasılığı:  0.5152 %\n",
            "Aynı renklerin gelme olasılığı:  3.5742999999999996 %\n"
          ],
          "name": "stdout"
        }
      ]
    },
    {
      "cell_type": "markdown",
      "metadata": {
        "id": "WDqOT9Sl8ul4",
        "colab_type": "text"
      },
      "source": [
        "İki tarafsız zar bir kez atılır ve toplam skor gözlenir. Toplam puanın 7 veya daha yüksek olma olasılığını bulunuz.\n",
        "Bunu çözmek için matematiksel bir denklem kullanabiliriz veya deneyi birçok kez çalıştırabiliriz ve ardından sayıyı skorun 7 veya daha fazla olduğu zamanları sayabiliriz.\n",
        "1-Deneyi 1000 kez çalıştıralım (2 zarı 1000 kez atalım ve sonucu toplayım)\n",
        "2-Toplamın 7'den veya daha fazla kaç kez geldiğini takip edelim.\n",
        "3-2. adımdaki sayıyı yineleme sayısına bölelim (1000)\n",
        "Cevabımızın ne olacağına dair genel bir fikre sahip olabilmemiz için, 2 zarın atılmasına ve toplanmasına bakalım:"
      ]
    },
    {
      "cell_type": "code",
      "metadata": {
        "id": "kjjoZXkJ8uMY",
        "colab_type": "code",
        "colab": {
          "base_uri": "https://localhost:8080/",
          "height": 34
        },
        "outputId": "bac4cc9a-4a8a-48dd-bd85-c8eaba680474"
      },
      "source": [
        "import random\n",
        "import numpy as np\n",
        "\n",
        "# Zar atma fonksiyonu\n",
        "def roll_the_dice(n_simulations = 100000):\n",
        "  count = 0\n",
        "#her bir iterasyonu for döngüsüyle izleyelim\n",
        "  for i in range(n_simulations):\n",
        "\n",
        "  #her bir zarı yuvarlayalım\n",
        "    die1 = random.randint(1, 6)\n",
        "    die2 = random.randint(1, 6)\n",
        "\n",
        "  #atılan zarların skorlarını toplayalım\n",
        "    score = die1 + die2\n",
        "\n",
        "  #sayıma % olarak ekleme yaptığımızı belirliyoruz\n",
        "    if score % 2 == 0 or score > 7:\n",
        "        count += 1\n",
        "\n",
        "  return count/n_simulations\n",
        "string = 'Eşit sayıda veya 7 den büyük zar atma olasılığı:'\n",
        "print(string,np.round(roll_the_dice()*100,2), '%')\n"
      ],
      "execution_count": 4,
      "outputs": [
        {
          "output_type": "stream",
          "text": [
            "Eşit sayıda veya 7 den büyük zar atma olasılığı: 66.56 %\n"
          ],
          "name": "stdout"
        }
      ]
    }
  ]
}