{
  "nbformat": 4,
  "nbformat_minor": 0,
  "metadata": {
    "colab": {
      "name": "permutasyon0.ipynb",
      "provenance": [],
      "collapsed_sections": [],
      "authorship_tag": "ABX9TyP1VIXlvyo9vxlfHagg3fLT",
      "include_colab_link": true
    },
    "kernelspec": {
      "name": "python3",
      "display_name": "Python 3"
    }
  },
  "cells": [
    {
      "cell_type": "markdown",
      "metadata": {
        "id": "view-in-github",
        "colab_type": "text"
      },
      "source": [
        "<a href=\"https://colab.research.google.com/github/mehmetalioner41/AyrikSistemler-cin-leriOlasilik/blob/master/permutasyon0.ipynb\" target=\"_parent\"><img src=\"https://colab.research.google.com/assets/colab-badge.svg\" alt=\"Open In Colab\"/></a>"
      ]
    },
    {
      "cell_type": "code",
      "metadata": {
        "id": "FfkgRPFwdxKc",
        "colab_type": "code",
        "colab": {
          "base_uri": "https://localhost:8080/",
          "height": 54
        },
        "outputId": "4c434d0f-80e4-4f95-a9f2-4c2ca7d14d60"
      },
      "source": [
        "def permute_string(str):\n",
        "    if len(str) == 0:\n",
        "        return ['']\n",
        "    prev_list = permute_string(str[1:len(str)])\n",
        "    next_list = []\n",
        "    for i in range(0,len(prev_list)):\n",
        "        for j in range(0,len(str)):\n",
        "            new_str = prev_list[i][0:j]+str[0]+prev_list[i][j:len(str)-1]\n",
        "            if new_str not in next_list:\n",
        "                next_list.append(new_str)\n",
        "    return next_list\n",
        "\n",
        "print(permute_string('ABCD'));"
      ],
      "execution_count": 1,
      "outputs": [
        {
          "output_type": "stream",
          "text": [
            "['ABCD', 'BACD', 'BCAD', 'BCDA', 'ACBD', 'CABD', 'CBAD', 'CBDA', 'ACDB', 'CADB', 'CDAB', 'CDBA', 'ABDC', 'BADC', 'BDAC', 'BDCA', 'ADBC', 'DABC', 'DBAC', 'DBCA', 'ADCB', 'DACB', 'DCAB', 'DCBA']\n"
          ],
          "name": "stdout"
        }
      ]
    },
    {
      "cell_type": "markdown",
      "metadata": {
        "id": "Unn3EyCjGEuH",
        "colab_type": "text"
      },
      "source": [
        "permutasyon ödev"
      ]
    }
  ]
}