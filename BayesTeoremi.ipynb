{
  "nbformat": 4,
  "nbformat_minor": 0,
  "metadata": {
    "colab": {
      "name": "BayesTeoremi.ipynb",
      "provenance": [],
      "collapsed_sections": [],
      "include_colab_link": true
    },
    "kernelspec": {
      "name": "python3",
      "display_name": "Python 3"
    }
  },
  "cells": [
    {
      "cell_type": "markdown",
      "metadata": {
        "id": "view-in-github",
        "colab_type": "text"
      },
      "source": [
        "<a href=\"https://colab.research.google.com/github/mehmetalioner41/AyrikSistemler-cin-leriOlasilik/blob/master/BayesTeoremi.ipynb\" target=\"_parent\"><img src=\"https://colab.research.google.com/assets/colab-badge.svg\" alt=\"Open In Colab\"/></a>"
      ]
    },
    {
      "cell_type": "markdown",
      "metadata": {
        "id": "h-19E6BZFgsR",
        "colab_type": "text"
      },
      "source": [
        "\n",
        "### Soru :\n",
        "Bir lastik fabrikasında o gün üretilen kamyon lastiklerinin bir sonraki gün için de planlanan adetten az üretilme olasılıkları hesaplanmaktadır. Kamyon lastiklerinin bir sonraki imalatta banttan çıkma olasılığı P(A) = %90 olduğu bilinmektedir. \n",
        "Üretimi  engelleyen en önemli faktörlerin makina arızaları ve elektrik kesintileri olduğu bilinmektedir. Makinanın arızalığı olduğu zamanlarda kamyon lastiği belirlenen adette üretme olasılığı P(A|B) = %40 olduğu bilinmektedir. Bir sonraki gün makinanın arızalı olma ihtimalinin P(B) = %60 olduğu tahmin edilmektedir. Buna göre makinanın arızalı olduğu zamanda kamyon lastiğinin belirlenen etikette üretme olasılığı kaçtır?\n",
        "\n",
        "### Çözüm :\n",
        "P(A|B) = B’nin doğru olduğu bilindiğinde A’nın olma olasılığı\n",
        "\n",
        "P(B|A) = A’nın doğru olduğu bilindiğinde B’nin olma olasılığı\n",
        "\n",
        "P(A) = A’nın olma olasılığı\n",
        "\n",
        "P(B) = B’nin olma olasılığı\n",
        "\n",
        " P(A) = 0.90   \n",
        "\n",
        " P(B) = 0.60 \n",
        " \n",
        " P(A|B) = 0.40  \n",
        " \n",
        " P(B|A) = ?  \n",
        "\n",
        "Bayes Teoremi Formülü\n",
        "\n",
        " P(A|B) * P(B) = P(B|A) * P(A)  \n",
        " \n",
        " P(B|A) = (P(A|B) * P(B)) / P(A)\n",
        "\n",
        " P(B|A) =  0.2666 \n",
        "\n",
        "-------------------------------------------------------------------------------\n"
      ]
    },
    {
      "cell_type": "code",
      "metadata": {
        "id": "IEyceMxWGnq6",
        "colab_type": "code",
        "outputId": "ec5590f1-c7bf-4933-cd39-5df9cd4d0bf8",
        "colab": {
          "base_uri": "https://localhost:8080/",
          "height": 34
        }
      },
      "source": [
        "import pylab\n",
        "\n",
        "def bayesteoremi(PA=None, PB=None, PAB=None, PBA=None):\n",
        "\t\t\n",
        "\tif PA == None: \n",
        "\n",
        "\t\t\treturn (PAB * PB) / PBA\t\n",
        "\n",
        "\telif PB == None:\n",
        "\n",
        "\t\t\treturn (PBA * PA) / PAB\n",
        "\n",
        "\telif PAB == None:\n",
        "\n",
        "\t\t\treturn (PBA * PA) / PB\n",
        "\n",
        "\telif PBA == None:\n",
        "\n",
        "\t  \treturn (PAB * PB) / PA\n",
        "\n",
        "if __name__ == '__main__':\n",
        "\n",
        "\tPA = 0.90 \n",
        "\n",
        "\tPB = 0.60\n",
        "\n",
        "\tPAB = 0.40\n",
        "\n",
        "\tPBA = bayesteoremi(PA, PB, PAB)\n",
        " \n",
        "\tprint('Kamyon lastigi uretme olasiligi :', PBA)"
      ],
      "execution_count": 24,
      "outputs": [
        {
          "output_type": "stream",
          "text": [
            "Kamyon lastigi uretme olasiligi : 0.26666666666666666\n"
          ],
          "name": "stdout"
        }
      ]
    }
  ]
}