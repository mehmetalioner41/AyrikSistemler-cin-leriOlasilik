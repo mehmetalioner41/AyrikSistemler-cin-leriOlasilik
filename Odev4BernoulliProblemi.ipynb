{
  "nbformat": 4,
  "nbformat_minor": 0,
  "metadata": {
    "colab": {
      "name": "Odev4BernoulliProblemi.ipynb",
      "provenance": [],
      "collapsed_sections": [],
      "include_colab_link": true
    },
    "kernelspec": {
      "name": "python3",
      "display_name": "Python 3"
    }
  },
  "cells": [
    {
      "cell_type": "markdown",
      "metadata": {
        "id": "view-in-github",
        "colab_type": "text"
      },
      "source": [
        "<a href=\"https://colab.research.google.com/github/mehmetalioner41/AyrikSistemler-cin-leriOlasilik/blob/master/Odev4BernoulliProblemi.ipynb\" target=\"_parent\"><img src=\"https://colab.research.google.com/assets/colab-badge.svg\" alt=\"Open In Colab\"/></a>"
      ]
    },
    {
      "cell_type": "markdown",
      "metadata": {
        "id": "F72L3hiUY5it",
        "colab_type": "text"
      },
      "source": [
        "**Soru:** Bir kutuda bulunan 10 tabletten 5 tanesi aspirindir. Bu kutudan yerine koyarak 3 tablet çekildiğinde 2 tanesinin aspirin olması olasılığı nedir?\n",
        "\n",
        "**Çözüm:**\n",
        "\n",
        "X: Çekilen tabletin aspirin olması\n",
        "\n",
        "p = 1/2 # Aspirin olma olasılığı\n",
        "\n",
        "n=3 # Seçilen tablet sayısı\n",
        "\n",
        "x=2 # Çekilmesi istenen aspirin sayısı\n",
        "\n",
        "$ X ~ b (n=3,p= \\frac{1}{2})$\n",
        "\n",
        "Olasılık = \n",
        "$P(X = 2) = {3 \\choose 2}{1 \\choose 2}^2{1 \\choose 2}^{3-2} = \\frac{3!}{2!(3-2)!}(\\frac{1}{2})^3 = 0.375$"
      ]
    },
    {
      "cell_type": "code",
      "metadata": {
        "id": "J9gQXemavqmx",
        "colab_type": "code",
        "outputId": "837545f0-7e4b-4c9a-e9fc-19c5dab4d761",
        "colab": {
          "base_uri": "https://localhost:8080/",
          "height": 34
        }
      },
      "source": [
        "print(\"Bir kutuda bulunan 10 tabletten 5 tanesi aspirindir. Bu kutudan yerine koyarak 3 tablet çekildiğinde 2 tanesinin aspirin olması olasılığı nedir?\")"
      ],
      "execution_count": 2,
      "outputs": [
        {
          "output_type": "stream",
          "text": [
            "Bir kutuda bulunan 10 tabletten 5 tanesi aspirindir. Bu kutudan yerine koyarak 3 tablet çekildiğinde 2 tanesinin aspirin olması olasılığı nedir?\n"
          ],
          "name": "stdout"
        }
      ]
    },
    {
      "cell_type": "code",
      "metadata": {
        "id": "hnh0E7WovhB1",
        "colab_type": "code",
        "colab": {}
      },
      "source": [
        "import numpy as np\n",
        "import math"
      ],
      "execution_count": 0,
      "outputs": []
    },
    {
      "cell_type": "code",
      "metadata": {
        "id": "EjXnSYq-xe2m",
        "colab_type": "code",
        "colab": {}
      },
      "source": [
        "def faktoriyelHesapla(x): # Faktoriyel Hesap Fonksiyonu\n",
        "    if x==1:       \n",
        "        return 1\n",
        "    \n",
        "    else: \n",
        "        return x * faktoriyelHesapla(x-1)\n",
        "      "
      ],
      "execution_count": 0,
      "outputs": []
    },
    {
      "cell_type": "code",
      "metadata": {
        "id": "PP6Kb4MKyaj-",
        "colab_type": "code",
        "colab": {}
      },
      "source": [
        "def Bernoulli(x,n,p): # Bernoulli Hesap Fonksiyonu\n",
        "  nf=faktoriyelHesapla(n)\n",
        "  xf=faktoriyelHesapla(x)\n",
        "  n_x=faktoriyelHesapla(n-x)\n",
        "  poss=  pow(p,x)*pow(1-p,n-x)\n",
        "  return nf/(xf*n_x)*poss\n"
      ],
      "execution_count": 0,
      "outputs": []
    },
    {
      "cell_type": "code",
      "metadata": {
        "id": "T1PAKc6n0HJk",
        "colab_type": "code",
        "outputId": "96bc1aa7-20a2-4de2-ab00-900f4456de68",
        "colab": {
          "base_uri": "https://localhost:8080/",
          "height": 34
        }
      },
      "source": [
        "p = 1/2 # Aspirin olma olasılığı\n",
        "n=3 # Seçilen tablet sayısı\n",
        "x=2 # Çekilmesi istenen aspirin sayısı\n",
        "x= Bernoulli(x,n,p) \n",
        "print(\"Sonuç:\",x)"
      ],
      "execution_count": 5,
      "outputs": [
        {
          "output_type": "stream",
          "text": [
            "Sonuç: 0.375\n"
          ],
          "name": "stdout"
        }
      ]
    }
  ]
}