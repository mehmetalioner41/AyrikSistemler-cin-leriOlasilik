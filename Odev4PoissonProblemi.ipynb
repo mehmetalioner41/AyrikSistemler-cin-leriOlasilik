{
  "nbformat": 4,
  "nbformat_minor": 0,
  "metadata": {
    "colab": {
      "name": "Odev4PoissonProblemi",
      "provenance": [],
      "collapsed_sections": [],
      "include_colab_link": true
    },
    "kernelspec": {
      "name": "python3",
      "display_name": "Python 3"
    }
  },
  "cells": [
    {
      "cell_type": "markdown",
      "metadata": {
        "id": "view-in-github",
        "colab_type": "text"
      },
      "source": [
        "<a href=\"https://colab.research.google.com/github/mehmetalioner41/AyrikSistemler-cin-leriOlasilik/blob/master/Odev4PoissonProblemi.ipynb\" target=\"_parent\"><img src=\"https://colab.research.google.com/assets/colab-badge.svg\" alt=\"Open In Colab\"/></a>"
      ]
    },
    {
      "cell_type": "markdown",
      "metadata": {
        "id": "i91bRgAB29SD",
        "colab_type": "text"
      },
      "source": [
        "# Poisson Dağılımı\n",
        "\n",
        "**Soru:**\n",
        "\n",
        "Kocaeli bölgesinde kovid19 virüsünden dolayı, bir hafta içinde ortalama ölen kişi sayısı 4’ dür. Belli bir hafta içinde bu hastalıktan\n",
        "\n",
        "\"a) Hiç kimsenin ölmemesi\",\n",
        "\n",
        "\"b) En az 2 kişinin ölmesi\",\n",
        "\n",
        "\"c) 3 kişinin ölmesi\",\n",
        "\"olasılıklarını hesaplayınız.\n",
        "\n",
        "**Çözüm:**\n",
        "\n",
        "X rasgele değişkeni Poisson dağılımına sahipse, bu değişkenin olasılık fonksiyonu aşağıdaki gibidir:\n",
        "\n",
        "$ f(x)=P(X=x)=\\frac{e^{-\\lambda}\\lambda^x}{x!}, x=0,1,2,.., $\n",
        "\n",
        "${\\lambda}=$ gerçekleşen ortalama olay sayısı olup ${\\lambda}=$ np dir.\n",
        "\n",
        "X: bir haftada bu virüsten ölenlerin sayısı\n",
        "\n",
        "$ f(x)=P(X=x)=\\frac{e^{-\\lambda}\\lambda^x}{x!}, x=0,1,2,.., \\lambda = 4 $\n",
        "\n",
        "$ a) P(X = 0) = \\frac{e^{-4}4^0}{0!}= 0.0183 $\n",
        "\n",
        "$ b) P(X>2)= 1-P(X<2) = 1 - (P(X = 0 ) + P(X = 1)) = 1 - (\\frac{e^{-4}4^0}{0!} + \\frac{e^{-4}4^1}{1!}) = $\n",
        "\n",
        "$ =1 - (0.0183 + 0.0733) = 1 - 0.0916 = 0.9084 $\n",
        "\n",
        "$ c) P(X = 3) = \\frac{e^{-4}4^3}{3!} = 0.195 $"
      ]
    },
    {
      "cell_type": "code",
      "metadata": {
        "id": "Kc-g-lrf3GJd",
        "colab_type": "code",
        "outputId": "668c19b6-77ed-4c89-ee26-8f71081a2b1a",
        "colab": {
          "base_uri": "https://localhost:8080/",
          "height": 54
        }
      },
      "source": [
        "print(\"Kocaeli bölgesinde kovid19 virüsünden dolayı, bir hafta içinde ortalama ölen kişi sayısı 4’ dür. Belli bir hafta içinde bu hastalıktan\",\n",
        "\"a) Hiç kimsenin ölmemesi\",\n",
        "\"b) En az 2 kişinin ölmesi\",\n",
        "\"c) 3 kişinin ölmesi\",\n",
        "\"olasılıklarını hesaplayınız.\")"
      ],
      "execution_count": 6,
      "outputs": [
        {
          "output_type": "stream",
          "text": [
            "Kocaeli bölgesinde kovid19 virüsünden dolayı, bir hafta içinde ortalama ölen kişi sayısı 4’ dür. Belli bir hafta içinde bu hastalıktan a) Hiç kimsenin ölmemesi b) En az 2 kişinin ölmesi c) 3 kişinin ölmesi olasılıklarını hesaplayınız.\n"
          ],
          "name": "stdout"
        }
      ]
    },
    {
      "cell_type": "code",
      "metadata": {
        "id": "6dl8ZM-S26n9",
        "colab_type": "code",
        "colab": {}
      },
      "source": [
        "import numpy as np\n",
        "import math\n"
      ],
      "execution_count": 0,
      "outputs": []
    },
    {
      "cell_type": "code",
      "metadata": {
        "id": "maKyPyuu4FNq",
        "colab_type": "code",
        "colab": {}
      },
      "source": [
        "def faktoriyelHesapla(x): # Faktoriyel Hesap Fonksiyonu\n",
        "    if x==1:       \n",
        "        return 1\n",
        "    if x==0:\n",
        "        return 1\n",
        "    \n",
        "    else: \n",
        "        return x * faktoriyelHesapla(x-1)\n",
        "      "
      ],
      "execution_count": 0,
      "outputs": []
    },
    {
      "cell_type": "code",
      "metadata": {
        "id": "PbrCOSzm3UKB",
        "colab_type": "code",
        "colab": {}
      },
      "source": [
        "def Poisson(landa,x):\n",
        "   return math.exp(-landa)*pow(landa,x)/faktoriyelHesapla(x)"
      ],
      "execution_count": 0,
      "outputs": []
    },
    {
      "cell_type": "code",
      "metadata": {
        "id": "Ya5eDAyM4a38",
        "colab_type": "code",
        "outputId": "3229a055-63a6-43e5-ab9e-db9b1175f951",
        "colab": {
          "base_uri": "https://localhost:8080/",
          "height": 67
        }
      },
      "source": [
        "#A şıkkının çözümü\n",
        "A=Poisson(4,0)\n",
        "print(\"A şıkkının cevabı : \",A)\n",
        "#B şıkkının çözümü\n",
        "B=1-(Poisson(4,1)+Poisson(4,0))\n",
        "print(\"B şıkkının cevabı : \",B)\n",
        "#C şıkkının çözümü\n",
        "C=Poisson(4,3)\n",
        "print(\"C şıkkının cevabı : \",C)"
      ],
      "execution_count": 10,
      "outputs": [
        {
          "output_type": "stream",
          "text": [
            "A şıkkının cevabı :  0.01831563888873418\n",
            "B şıkkının cevabı :  0.9084218055563291\n",
            "C şıkkının cevabı :  0.19536681481316456\n"
          ],
          "name": "stdout"
        }
      ]
    }
  ]
}