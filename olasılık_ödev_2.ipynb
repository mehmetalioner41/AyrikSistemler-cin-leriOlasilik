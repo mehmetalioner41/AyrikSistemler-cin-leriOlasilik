{
  "nbformat": 4,
  "nbformat_minor": 0,
  "metadata": {
    "colab": {
      "name": "olasılık ödev 2.ipynb",
      "provenance": [],
      "collapsed_sections": [],
      "authorship_tag": "ABX9TyPZRrkZv0njBIql8FArEE9c",
      "include_colab_link": true
    },
    "kernelspec": {
      "name": "python3",
      "display_name": "Python 3"
    }
  },
  "cells": [
    {
      "cell_type": "markdown",
      "metadata": {
        "id": "view-in-github",
        "colab_type": "text"
      },
      "source": [
        "<a href=\"https://colab.research.google.com/github/mehmetalioner41/AyrikSistemler-cin-leriOlasilik/blob/master/olas%C4%B1l%C4%B1k_%C3%B6dev_2.ipynb\" target=\"_parent\"><img src=\"https://colab.research.google.com/assets/colab-badge.svg\" alt=\"Open In Colab\"/></a>"
      ]
    },
    {
      "cell_type": "markdown",
      "metadata": {
        "id": "0XKscXSYsNHu",
        "colab_type": "text"
      },
      "source": [
        "Bir kutuda 10 beyaz top, 20 kırmızı ve 30 yeşil top var. Bunlardan Değiştirmeli ile 5 top çekelim. a. 3 beyaz veya 2 kırmızı çekme olasılığı b. 5 topun hepsi aynı renkte olma olasılığı nedir? Burada olasılık hesaplama formulunu kullanacağız. Her turda toplarımızı toplayacağız ve 3 beyaz veya 2 kırmızı top veya 5 topun hepsi aynı renkte olucak şekilde hesaplıcaz.\n",
        "\n"
      ]
    },
    {
      "cell_type": "code",
      "metadata": {
        "id": "DljF1A_iq-gZ",
        "colab_type": "code",
        "outputId": "734546e7-c6b7-4fe1-ee87-ab482fd4dc4c",
        "colab": {
          "base_uri": "https://localhost:8080/"
        }
      },
      "source": [
        "import numpy as np\n",
        "import random\n",
        "# 1.Bu soru için kullanacağımız kütüphaneyi ayarlayalım\n",
        "# Bu kütüphane rastgele bir renk seçmemize izin verecek\n",
        "d = {}\n",
        "for i in range(60):\n",
        "    if i < 10:\n",
        "        d[i] = 'white'\n",
        "    elif i > 9 and i < 30:\n",
        "        d[i] = 'red'\n",
        "    else:\n",
        "        d[i] = 'green'\n",
        "\n",
        "# Önemli olan değişkenleri başlat\n",
        "n_simulations = 1000000\n",
        "part_a_total = 0\n",
        "part_b_total = 0\n",
        "\n",
        "for i in range(n_simulations):\n",
        "\n",
        "    # Seçtiğimiz renlerin bir listesini oluşturalım\n",
        "    lst = []\n",
        "    for i in range(5):\n",
        "        lst.append(d[random.randint(0, 59)])\n",
        "\n",
        "    # Oluşturduğumuz listeyi numpy dizisine dönüştürelim\n",
        "    lst = np.array(lst)\n",
        "\n",
        "    # seçtiğimiz her bir rengin numarasını bulalım\n",
        "    white = sum(lst == 'white')\n",
        "    red = sum(lst == 'red')\n",
        "    green = sum(lst == 'green')\n",
        "\n",
        "    # Kombinasyonun yukarıdaki kriterleri karşılayıp karşılamadığını takip edelim\n",
        "    if white == 3 and red == 2:\n",
        "        part_a_total +=1\n",
        "\n",
        "    if red == 5 or white == 5 or green == 5:\n",
        "        part_b_total +=1\n",
        "\n",
        "print('3 beyaz veya 2 kırmızı top gelme olasılığı: ',part_a_total/n_simulations*100,'%')\n",
        "print('Aynı renklerin gelme olasılığı: ',part_b_total/n_simulations*100,'%')\n"
      ],
      "execution_count": 0,
      "outputs": [
        {
          "output_type": "stream",
          "text": [
            "3 beyaz veya 2 kırmızı top gelme olasılığı:  0.5178999999999999 %\n",
            "Aynı renklerin gelme olasılığı:  3.5462000000000002 %\n"
          ],
          "name": "stdout"
        }
      ]
    },
    {
      "cell_type": "code",
      "metadata": {
        "id": "JKKzzjLeBHgc",
        "colab_type": "code",
        "colab": {}
      },
      "source": [
        ""
      ],
      "execution_count": 0,
      "outputs": []
    }
  ]
}